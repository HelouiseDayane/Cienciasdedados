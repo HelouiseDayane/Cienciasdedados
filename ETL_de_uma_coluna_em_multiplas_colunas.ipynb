{
  "nbformat": 4,
  "nbformat_minor": 0,
  "metadata": {
    "colab": {
      "provenance": [],
      "authorship_tag": "ABX9TyNvrI12LyuohYoOvTbyDpgd",
      "include_colab_link": true
    },
    "kernelspec": {
      "name": "python3",
      "display_name": "Python 3"
    },
    "language_info": {
      "name": "python"
    }
  },
  "cells": [
    {
      "cell_type": "markdown",
      "metadata": {
        "id": "view-in-github",
        "colab_type": "text"
      },
      "source": [
        "<a href=\"https://colab.research.google.com/github/HelouiseDayane/Cienciasdedados/blob/main/ETL_de_uma_coluna_em_multiplas_colunas.ipynb\" target=\"_parent\"><img src=\"https://colab.research.google.com/assets/colab-badge.svg\" alt=\"Open In Colab\"/></a>"
      ]
    },
    {
      "cell_type": "code",
      "execution_count": null,
      "metadata": {
        "id": "GO81Sk0L0AB4"
      },
      "outputs": [],
      "source": [
        "import pandas as pd\n",
        "import re\n",
        "from google.colab import files\n",
        "\n",
        "df = pd.read_excel('/content/rcl_incor_saep.xls')\n",
        "\n",
        "# Função para processar e extrair campos\n",
        "def process_text_to_dict(text):\n",
        "    if pd.isnull(text):\n",
        "        return {}\n",
        "\n",
        "    pattern = r'@#(\\d+)@(\\d+)&([^@#]*)'\n",
        "    matches = re.findall(pattern, text)\n",
        "\n",
        "    # Cria chaves únicas tipo '1385_45'\n",
        "    result = {}\n",
        "    for id1, id2, value in matches:\n",
        "        key = f'{id1}_{id2}'\n",
        "        result[key] = value.strip()\n",
        "\n",
        "    return result\n",
        "\n",
        "# Aplica a função\n",
        "df_dicts = df['rcl_txt'].apply(process_text_to_dict)\n",
        "\n",
        "# Transforma lista de dicionários em colunas\n",
        "df_expandido = pd.DataFrame(df_dicts.tolist())\n",
        "\n",
        "# Preenche campos nulos com zero\n",
        "df_expandido = df_expandido.fillna(0)\n",
        "\n",
        "# Junta com as colunas originais (exceto 'rcl_txt', se quiser)\n",
        "df_result = pd.concat([df.drop(columns=['rcl_txt']), df_expandido], axis=1)\n",
        "\n",
        "# Exibe resultado\n",
        "df_result.head()\n",
        "# Exportar para Excel\n",
        "df_result.to_excel('/content/resultado_convertido.xlsx', index=False, engine='openpyxl')\n",
        "files.download('/content/resultado_convertido.xlsx')\n",
        "\n"
      ]
    },
    {
      "cell_type": "code",
      "source": [
        "import pandas as pd\n",
        "from google.colab import files\n",
        "\n",
        "# Garante que todas as colunas sejam strings\n",
        "df_result.columns = df_result.columns.astype(str)\n",
        "\n",
        "# Função para gerar e salvar o arquivo baseado nas colunas\n",
        "def gerar_excel(df, nome_arquivo, col_inicio, col_fim):\n",
        "    if col_inicio in df.columns and col_fim in df.columns:\n",
        "        idx_inicio = df.columns.get_loc(col_inicio)\n",
        "        idx_fim = df.columns.get_loc(col_fim)\n",
        "\n",
        "        # Seleciona as colunas do intervalo\n",
        "        colunas_intervalo = df.columns[idx_inicio:idx_fim + 1]\n",
        "        # Colunas fixas\n",
        "        colunas_fixas = ['rcl_dthr', 'rcl_pac']\n",
        "\n",
        "        # Filtra linhas com pelo menos um valor diferente de zero no intervalo\n",
        "        filtro = ~((df[colunas_intervalo] == 0).all(axis=1))\n",
        "\n",
        "        # Aplica o filtro e seleciona colunas fixas + intervalo\n",
        "        df_filtrado = df.loc[filtro, colunas_fixas + list(colunas_intervalo)]\n",
        "\n",
        "        # Salva\n",
        "        caminho = f'/content/{nome_arquivo}.xlsx'\n",
        "        df_filtrado.to_excel(caminho, index=False, engine='openpyxl')\n",
        "        files.download(caminho)\n",
        "    else:\n",
        "        print(f'❌ Colunas {col_inicio} ou {col_fim} não encontradas.')\n",
        "\n",
        "# === Arquivo 1 ===\n",
        "# rcl_dthr, rcl_pac, 1385_45 até 2360_61\n",
        "gerar_excel(df_result, 'arquivo_1_1385a2360', '1385_45', '2360_61')\n",
        "\n",
        "# === Arquivo 2 ===\n",
        "# rcl_dthr, rcl_pac, 1423_8 até 1596_67\n",
        "gerar_excel(df_result, 'arquivo_2_1423a1596', '1423_8', '1596_67')\n",
        "\n",
        "# === Arquivo 3 ===\n",
        "# rcl_dthr, rcl_pac, 1377_92 até 2360_91\n",
        "gerar_excel(df_result, 'arquivo_3_1377a2360', '1377_92', '2360_91')\n"
      ],
      "metadata": {
        "id": "5z9cASyL0H2U"
      },
      "execution_count": null,
      "outputs": []
    }
  ]
}